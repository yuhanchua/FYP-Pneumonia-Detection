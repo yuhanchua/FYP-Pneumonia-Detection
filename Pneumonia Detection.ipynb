{
 "cells": [
  {
   "cell_type": "markdown",
   "id": "399a0a96-ebd6-4d95-8971-b52e18c23487",
   "metadata": {},
   "source": [
    "## Pneumonia Detection using Deep Learning"
   ]
  },
  {
   "cell_type": "markdown",
   "id": "7d4fa80a-5361-444b-aad5-db766dcb53ee",
   "metadata": {},
   "source": [
    "### Importing Libraries\n",
    "Import the necessary libaries for data manipulation, model building, and visualisation."
   ]
  },
  {
   "cell_type": "code",
   "execution_count": 1,
   "id": "295cda4d-ca28-4513-a9a8-7e176bcc427e",
   "metadata": {},
   "outputs": [],
   "source": [
    "# Importing necessary libraries\n",
    "import numpy as np\n",
    "import pandas as pd\n",
    "import os\n",
    "import seaborn as sns\n",
    "import matplotlib.pyplot as plt\n",
    "import tensorflow as tf\n",
    "from tensorflow.keras.preprocessing.image import ImageDataGenerator\n",
    "from tensorflow.keras.models import Sequential\n",
    "from tensorflow.keras.layers import Dense, Dropout, Flatten, Conv2D, MaxPooling2D\n",
    "from tensorflow.keras.applications import DenseNet121\n",
    "from tensorflow.keras.callbacks import EarlyStopping, ReduceLROnPlateau\n",
    "from sklearn.metrics import classification_report, confusion_matrix\n",
    "from sklearn.utils import class_weight"
   ]
  },
  {
   "cell_type": "markdown",
   "id": "550313d7-24fb-43eb-bdc0-388616084124",
   "metadata": {},
   "source": [
    "### Set Paths for Dataset Directories\n",
    "Define the paths to the training and test datasets."
   ]
  },
  {
   "cell_type": "code",
   "execution_count": 2,
   "id": "e621851a-5928-472f-abab-03d5f867e12a",
   "metadata": {},
   "outputs": [],
   "source": [
    "# Set paths for dataset directories\n",
    "train_dir = 'chest_xray\\\\train'\n",
    "test_dir = 'chest_xray\\\\test'"
   ]
  },
  {
   "cell_type": "markdown",
   "id": "4247db2c-f8f1-4a8f-bf5a-07066a762223",
   "metadata": {},
   "source": [
    "### Data Augmentation\n",
    "Using <code>ImageDataGenerator</code> to perform data augmentation on the training set with transformations like rotation, width/height shfits, and zooming to make the model robust. We also normalize the pixel values to the range [0, 1] using rescale."
   ]
  },
  {
   "cell_type": "code",
   "execution_count": 3,
   "id": "bc5deafe-8ea9-46ad-bc48-bb459c4d3206",
   "metadata": {},
   "outputs": [],
   "source": [
    "# ImageDataGenerator for data augmentation with more intense augmentation\n",
    "train_datagen = ImageDataGenerator(\n",
    "    rescale=1./255,\n",
    "    rotation_range=30,\n",
    "    width_shift_range=0.3,\n",
    "    height_shift_range=0.3,\n",
    "    shear_range=0.3,\n",
    "    zoom_range=0.3,\n",
    "    horizontal_flip=True,\n",
    "    fill_mode='nearest',\n",
    "    validation_split=0.2  # Adding a validation split for better model generalization\n",
    ")\n",
    "\n",
    "test_datagen = ImageDataGenerator(rescale=1./255)"
   ]
  },
  {
   "cell_type": "markdown",
   "id": "93e71f3d-6ab4-4da6-8108-0012c0e01c10",
   "metadata": {},
   "source": [
    "### Loading the Train, Validation, and Test Data\n",
    "Create generators for the training, validation, and test sets using the <code>flow_from_directory</code> method."
   ]
  },
  {
   "cell_type": "code",
   "execution_count": 4,
   "id": "fc8e2038-1196-4ad2-8c05-9ddf0d951cb1",
   "metadata": {},
   "outputs": [
    {
     "name": "stdout",
     "output_type": "stream",
     "text": [
      "Found 4187 images belonging to 2 classes.\n",
      "Found 1045 images belonging to 2 classes.\n",
      "Found 624 images belonging to 2 classes.\n"
     ]
    }
   ],
   "source": [
    "# Loading the train, validation, and test data\n",
    "train_data = train_datagen.flow_from_directory(\n",
    "    train_dir,\n",
    "    target_size=(224, 224),\n",
    "    batch_size=32,\n",
    "    class_mode='binary',\n",
    "    subset='training'\n",
    ")\n",
    "\n",
    "validation_data = train_datagen.flow_from_directory(\n",
    "    train_dir,\n",
    "    target_size=(224, 224),\n",
    "    batch_size=32,\n",
    "    class_mode='binary',\n",
    "    subset='validation'\n",
    ")\n",
    "\n",
    "test_data = test_datagen.flow_from_directory(\n",
    "    test_dir,\n",
    "    target_size=(224, 224),\n",
    "    batch_size=32,\n",
    "    class_mode='binary',\n",
    "    shuffle=False\n",
    ")"
   ]
  },
  {
   "cell_type": "markdown",
   "id": "f14144f2-2797-4c31-9861-aa1328cf4abe",
   "metadata": {},
   "source": [
    "### Handling Class Imbalance\n",
    "To handle potential class imbalance between pneumonia and normal cases, I compute class weights."
   ]
  },
  {
   "cell_type": "code",
   "execution_count": 5,
   "id": "e79d676b-a5dd-4cfa-9042-504c380c695a",
   "metadata": {},
   "outputs": [],
   "source": [
    "# Handling class imbalance\n",
    "class_weights = class_weight.compute_class_weight(\n",
    "    class_weight='balanced',\n",
    "    classes=np.unique(train_data.classes),\n",
    "    y=train_data.classes\n",
    ")\n",
    "class_weights = dict(enumerate(class_weights))"
   ]
  },
  {
   "cell_type": "markdown",
   "id": "90ea0f51-6ccd-486c-917f-c6aa1fe49db8",
   "metadata": {},
   "source": [
    "### Model Set up using DenseNet121\n",
    "I utilized DenseNet121, pre-trained on the ImageNet dataset, as the base model. I freeze its layers to avoid updating their weights during intial training and add custom layers on top for binary classification."
   ]
  },
  {
   "cell_type": "code",
   "execution_count": 6,
   "id": "1aed05c3-675e-429f-adf9-b72a064a932c",
   "metadata": {},
   "outputs": [],
   "source": [
    "# Model setup using DenseNet121 (pre-trained on ImageNet)\n",
    "base_model = DenseNet121(weights='imagenet', include_top=False, input_shape=(224, 224, 3))\n",
    "\n",
    "# Freezing the base layers to prevent updating during initial training\n",
    "for layer in base_model.layers:\n",
    "    layer.trainable = False\n",
    "\n",
    "# Add custom classification layers with added regularization to prevent overfitting\n",
    "model = Sequential([\n",
    "    base_model,\n",
    "    tf.keras.layers.GlobalAveragePooling2D(),\n",
    "    Dense(512, activation='relu', kernel_regularizer=tf.keras.regularizers.l2(0.001)),  # L2 regularization\n",
    "    Dropout(0.5),  # Increased dropout to 0.5\n",
    "    Dense(1, activation='sigmoid')  # Binary classification (Pneumonia vs Normal)\n",
    "])"
   ]
  },
  {
   "cell_type": "markdown",
   "id": "d3a98b55-3b87-48f3-85c3-d9f094734dab",
   "metadata": {},
   "source": [
    "### Compiling the Model\n",
    "I compile the model with the Adam optimizer, binary cross-entropy loss, and accuracy as the evaluation metric."
   ]
  },
  {
   "cell_type": "code",
   "execution_count": 7,
   "id": "0c9f32b7-023c-4f0a-82b2-ef52820c872b",
   "metadata": {},
   "outputs": [],
   "source": [
    "# Compiling the model\n",
    "model.compile(optimizer='adam', loss='binary_crossentropy', metrics=['accuracy'])"
   ]
  },
  {
   "cell_type": "markdown",
   "id": "c133ade3-5d21-4b88-9289-283aa813deb7",
   "metadata": {},
   "source": [
    "### Early Stopping and Learning Rate Reduction\n",
    "I set up callbacks for early stopping to avoid overfitting and learning rate reduction when the validation loss plateaus."
   ]
  },
  {
   "cell_type": "code",
   "execution_count": 8,
   "id": "96d06c90-5901-41e8-bbd2-b11f9145cdff",
   "metadata": {},
   "outputs": [],
   "source": [
    "# Early stopping and learning rate reduction\n",
    "early_stopping = EarlyStopping(monitor='val_loss', patience=5, restore_best_weights=True)\n",
    "reduce_lr = ReduceLROnPlateau(monitor='val_loss', factor=0.2, patience=3, min_lr=0.00001)"
   ]
  },
  {
   "cell_type": "markdown",
   "id": "2e9968f0-79e3-47af-bcaa-d5489b5a656c",
   "metadata": {},
   "source": [
    "### Training the Model\n",
    "I train the model with the training and validation sets, applying class weights to balance the classes. I use early stopping and learning rate reduction callbacks during training."
   ]
  },
  {
   "cell_type": "code",
   "execution_count": 9,
   "id": "56890f0a-4e72-46bf-9470-2a9ecc24f9f4",
   "metadata": {
    "scrolled": true
   },
   "outputs": [
    {
     "name": "stdout",
     "output_type": "stream",
     "text": [
      "Epoch 1/30\n"
     ]
    },
    {
     "name": "stderr",
     "output_type": "stream",
     "text": [
      "C:\\Users\\rainc\\AppData\\Local\\Programs\\Python\\Python311\\Lib\\site-packages\\keras\\src\\trainers\\data_adapters\\py_dataset_adapter.py:122: UserWarning: Your `PyDataset` class should call `super().__init__(**kwargs)` in its constructor. `**kwargs` can include `workers`, `use_multiprocessing`, `max_queue_size`. Do not pass these arguments to `fit()`, as they will be ignored.\n",
      "  self._warn_if_super_not_called()\n"
     ]
    },
    {
     "name": "stdout",
     "output_type": "stream",
     "text": [
      "\u001b[1m131/131\u001b[0m \u001b[32m━━━━━━━━━━━━━━━━━━━━\u001b[0m\u001b[37m\u001b[0m \u001b[1m141s\u001b[0m 997ms/step - accuracy: 0.8049 - loss: 0.8642 - val_accuracy: 0.8354 - val_loss: 0.6170 - learning_rate: 0.0010\n",
      "Epoch 2/30\n",
      "\u001b[1m131/131\u001b[0m \u001b[32m━━━━━━━━━━━━━━━━━━━━\u001b[0m\u001b[37m\u001b[0m \u001b[1m119s\u001b[0m 891ms/step - accuracy: 0.8827 - loss: 0.4701 - val_accuracy: 0.8928 - val_loss: 0.4217 - learning_rate: 0.0010\n",
      "Epoch 3/30\n",
      "\u001b[1m131/131\u001b[0m \u001b[32m━━━━━━━━━━━━━━━━━━━━\u001b[0m\u001b[37m\u001b[0m \u001b[1m121s\u001b[0m 904ms/step - accuracy: 0.8971 - loss: 0.3979 - val_accuracy: 0.8861 - val_loss: 0.3931 - learning_rate: 0.0010\n",
      "Epoch 4/30\n",
      "\u001b[1m131/131\u001b[0m \u001b[32m━━━━━━━━━━━━━━━━━━━━\u001b[0m\u001b[37m\u001b[0m \u001b[1m121s\u001b[0m 907ms/step - accuracy: 0.9003 - loss: 0.3602 - val_accuracy: 0.9206 - val_loss: 0.3014 - learning_rate: 0.0010\n",
      "Epoch 5/30\n",
      "\u001b[1m131/131\u001b[0m \u001b[32m━━━━━━━━━━━━━━━━━━━━\u001b[0m\u001b[37m\u001b[0m \u001b[1m122s\u001b[0m 912ms/step - accuracy: 0.9043 - loss: 0.3300 - val_accuracy: 0.9005 - val_loss: 0.3478 - learning_rate: 0.0010\n",
      "Epoch 6/30\n",
      "\u001b[1m131/131\u001b[0m \u001b[32m━━━━━━━━━━━━━━━━━━━━\u001b[0m\u001b[37m\u001b[0m \u001b[1m125s\u001b[0m 936ms/step - accuracy: 0.8991 - loss: 0.3273 - val_accuracy: 0.9081 - val_loss: 0.2911 - learning_rate: 0.0010\n",
      "Epoch 7/30\n",
      "\u001b[1m131/131\u001b[0m \u001b[32m━━━━━━━━━━━━━━━━━━━━\u001b[0m\u001b[37m\u001b[0m \u001b[1m123s\u001b[0m 923ms/step - accuracy: 0.9165 - loss: 0.2926 - val_accuracy: 0.9234 - val_loss: 0.2608 - learning_rate: 0.0010\n",
      "Epoch 8/30\n",
      "\u001b[1m131/131\u001b[0m \u001b[32m━━━━━━━━━━━━━━━━━━━━\u001b[0m\u001b[37m\u001b[0m \u001b[1m127s\u001b[0m 953ms/step - accuracy: 0.9062 - loss: 0.3095 - val_accuracy: 0.9100 - val_loss: 0.2880 - learning_rate: 0.0010\n",
      "Epoch 9/30\n",
      "\u001b[1m131/131\u001b[0m \u001b[32m━━━━━━━━━━━━━━━━━━━━\u001b[0m\u001b[37m\u001b[0m \u001b[1m121s\u001b[0m 905ms/step - accuracy: 0.9123 - loss: 0.2736 - val_accuracy: 0.9110 - val_loss: 0.2594 - learning_rate: 0.0010\n",
      "Epoch 10/30\n",
      "\u001b[1m131/131\u001b[0m \u001b[32m━━━━━━━━━━━━━━━━━━━━\u001b[0m\u001b[37m\u001b[0m \u001b[1m124s\u001b[0m 931ms/step - accuracy: 0.9012 - loss: 0.2857 - val_accuracy: 0.9024 - val_loss: 0.2930 - learning_rate: 0.0010\n",
      "Epoch 11/30\n",
      "\u001b[1m131/131\u001b[0m \u001b[32m━━━━━━━━━━━━━━━━━━━━\u001b[0m\u001b[37m\u001b[0m \u001b[1m128s\u001b[0m 960ms/step - accuracy: 0.9091 - loss: 0.2980 - val_accuracy: 0.9311 - val_loss: 0.2316 - learning_rate: 0.0010\n",
      "Epoch 12/30\n",
      "\u001b[1m131/131\u001b[0m \u001b[32m━━━━━━━━━━━━━━━━━━━━\u001b[0m\u001b[37m\u001b[0m \u001b[1m126s\u001b[0m 943ms/step - accuracy: 0.9172 - loss: 0.2620 - val_accuracy: 0.9340 - val_loss: 0.2301 - learning_rate: 0.0010\n",
      "Epoch 13/30\n",
      "\u001b[1m131/131\u001b[0m \u001b[32m━━━━━━━━━━━━━━━━━━━━\u001b[0m\u001b[37m\u001b[0m \u001b[1m128s\u001b[0m 957ms/step - accuracy: 0.9135 - loss: 0.2648 - val_accuracy: 0.9100 - val_loss: 0.2626 - learning_rate: 0.0010\n",
      "Epoch 14/30\n",
      "\u001b[1m131/131\u001b[0m \u001b[32m━━━━━━━━━━━━━━━━━━━━\u001b[0m\u001b[37m\u001b[0m \u001b[1m124s\u001b[0m 932ms/step - accuracy: 0.9101 - loss: 0.2722 - val_accuracy: 0.8976 - val_loss: 0.2918 - learning_rate: 0.0010\n",
      "Epoch 15/30\n",
      "\u001b[1m131/131\u001b[0m \u001b[32m━━━━━━━━━━━━━━━━━━━━\u001b[0m\u001b[37m\u001b[0m \u001b[1m127s\u001b[0m 946ms/step - accuracy: 0.9107 - loss: 0.2617 - val_accuracy: 0.9187 - val_loss: 0.2497 - learning_rate: 0.0010\n",
      "Epoch 16/30\n",
      "\u001b[1m131/131\u001b[0m \u001b[32m━━━━━━━━━━━━━━━━━━━━\u001b[0m\u001b[37m\u001b[0m \u001b[1m117s\u001b[0m 879ms/step - accuracy: 0.9266 - loss: 0.2453 - val_accuracy: 0.9177 - val_loss: 0.2249 - learning_rate: 2.0000e-04\n",
      "Epoch 17/30\n",
      "\u001b[1m131/131\u001b[0m \u001b[32m━━━━━━━━━━━━━━━━━━━━\u001b[0m\u001b[37m\u001b[0m \u001b[1m117s\u001b[0m 879ms/step - accuracy: 0.9379 - loss: 0.2137 - val_accuracy: 0.9292 - val_loss: 0.2400 - learning_rate: 2.0000e-04\n",
      "Epoch 18/30\n",
      "\u001b[1m131/131\u001b[0m \u001b[32m━━━━━━━━━━━━━━━━━━━━\u001b[0m\u001b[37m\u001b[0m \u001b[1m117s\u001b[0m 878ms/step - accuracy: 0.9251 - loss: 0.2250 - val_accuracy: 0.9120 - val_loss: 0.2461 - learning_rate: 2.0000e-04\n",
      "Epoch 19/30\n",
      "\u001b[1m131/131\u001b[0m \u001b[32m━━━━━━━━━━━━━━━━━━━━\u001b[0m\u001b[37m\u001b[0m \u001b[1m117s\u001b[0m 873ms/step - accuracy: 0.9276 - loss: 0.2278 - val_accuracy: 0.9196 - val_loss: 0.2509 - learning_rate: 2.0000e-04\n",
      "Epoch 20/30\n",
      "\u001b[1m131/131\u001b[0m \u001b[32m━━━━━━━━━━━━━━━━━━━━\u001b[0m\u001b[37m\u001b[0m \u001b[1m121s\u001b[0m 906ms/step - accuracy: 0.9348 - loss: 0.2081 - val_accuracy: 0.9340 - val_loss: 0.2113 - learning_rate: 4.0000e-05\n",
      "Epoch 21/30\n",
      "\u001b[1m131/131\u001b[0m \u001b[32m━━━━━━━━━━━━━━━━━━━━\u001b[0m\u001b[37m\u001b[0m \u001b[1m120s\u001b[0m 895ms/step - accuracy: 0.9375 - loss: 0.2053 - val_accuracy: 0.9282 - val_loss: 0.2337 - learning_rate: 4.0000e-05\n",
      "Epoch 22/30\n",
      "\u001b[1m131/131\u001b[0m \u001b[32m━━━━━━━━━━━━━━━━━━━━\u001b[0m\u001b[37m\u001b[0m \u001b[1m120s\u001b[0m 901ms/step - accuracy: 0.9296 - loss: 0.2228 - val_accuracy: 0.9340 - val_loss: 0.2086 - learning_rate: 4.0000e-05\n",
      "Epoch 23/30\n",
      "\u001b[1m131/131\u001b[0m \u001b[32m━━━━━━━━━━━━━━━━━━━━\u001b[0m\u001b[37m\u001b[0m \u001b[1m122s\u001b[0m 911ms/step - accuracy: 0.9365 - loss: 0.2148 - val_accuracy: 0.9254 - val_loss: 0.2448 - learning_rate: 4.0000e-05\n",
      "Epoch 24/30\n",
      "\u001b[1m131/131\u001b[0m \u001b[32m━━━━━━━━━━━━━━━━━━━━\u001b[0m\u001b[37m\u001b[0m \u001b[1m119s\u001b[0m 891ms/step - accuracy: 0.9248 - loss: 0.2155 - val_accuracy: 0.9244 - val_loss: 0.2191 - learning_rate: 4.0000e-05\n",
      "Epoch 25/30\n",
      "\u001b[1m131/131\u001b[0m \u001b[32m━━━━━━━━━━━━━━━━━━━━\u001b[0m\u001b[37m\u001b[0m \u001b[1m119s\u001b[0m 887ms/step - accuracy: 0.9325 - loss: 0.2081 - val_accuracy: 0.9321 - val_loss: 0.2156 - learning_rate: 4.0000e-05\n",
      "Epoch 26/30\n",
      "\u001b[1m131/131\u001b[0m \u001b[32m━━━━━━━━━━━━━━━━━━━━\u001b[0m\u001b[37m\u001b[0m \u001b[1m118s\u001b[0m 884ms/step - accuracy: 0.9344 - loss: 0.2023 - val_accuracy: 0.9301 - val_loss: 0.2243 - learning_rate: 1.0000e-05\n",
      "Epoch 27/30\n",
      "\u001b[1m131/131\u001b[0m \u001b[32m━━━━━━━━━━━━━━━━━━━━\u001b[0m\u001b[37m\u001b[0m \u001b[1m127s\u001b[0m 948ms/step - accuracy: 0.9369 - loss: 0.2122 - val_accuracy: 0.9215 - val_loss: 0.2260 - learning_rate: 1.0000e-05\n"
     ]
    }
   ],
   "source": [
    "# Train the model with class weights to handle imbalance\n",
    "history = model.fit(\n",
    "    train_data,\n",
    "    validation_data=validation_data,\n",
    "    epochs=30,\n",
    "    class_weight=class_weights,\n",
    "    callbacks=[early_stopping, reduce_lr]\n",
    ")"
   ]
  },
  {
   "cell_type": "markdown",
   "id": "e8a53203-cffa-42e2-bab5-bd12cf032427",
   "metadata": {},
   "source": [
    "### Model Evaluation\n",
    "I evaluate the model on the test set to determine its accuracy and loss."
   ]
  },
  {
   "cell_type": "code",
   "execution_count": 10,
   "id": "36bb3190-2b5c-4e51-9dfe-021dbc44dd98",
   "metadata": {},
   "outputs": [
    {
     "name": "stdout",
     "output_type": "stream",
     "text": [
      "\u001b[1m20/20\u001b[0m \u001b[32m━━━━━━━━━━━━━━━━━━━━\u001b[0m\u001b[37m\u001b[0m \u001b[1m14s\u001b[0m 689ms/step - accuracy: 0.9181 - loss: 0.2391\n",
      "Test Accuracy: 88.94%\n"
     ]
    }
   ],
   "source": [
    "# Evaluate the model on test data\n",
    "test_loss, test_accuracy = model.evaluate(test_data)\n",
    "print(f\"Test Accuracy: {test_accuracy*100:.2f}%\")"
   ]
  },
  {
   "cell_type": "markdown",
   "id": "dc651ec8-bfd4-4a4e-a6a7-4bc67ad2c21f",
   "metadata": {},
   "source": [
    "### Generating Predictions and Classification Report\n",
    "After making predictions on the test set, I adjust the prediction threshold to 0.6 to reduce false positives and print the classification report"
   ]
  },
  {
   "cell_type": "code",
   "execution_count": 11,
   "id": "a7cc4ddd-4297-4b39-9bc7-1e5f24686aea",
   "metadata": {},
   "outputs": [
    {
     "name": "stdout",
     "output_type": "stream",
     "text": [
      "\u001b[1m20/20\u001b[0m \u001b[32m━━━━━━━━━━━━━━━━━━━━\u001b[0m\u001b[37m\u001b[0m \u001b[1m19s\u001b[0m 806ms/step\n",
      "              precision    recall  f1-score   support\n",
      "\n",
      "      Normal       0.76      0.97      0.85       234\n",
      "   Pneumonia       0.98      0.82      0.89       390\n",
      "\n",
      "    accuracy                           0.87       624\n",
      "   macro avg       0.87      0.89      0.87       624\n",
      "weighted avg       0.90      0.87      0.88       624\n",
      "\n"
     ]
    }
   ],
   "source": [
    "# Generate predictions and classification report\n",
    "predictions = model.predict(test_data)\n",
    "adjusted_predictions = np.where(predictions > 0.6, 1, 0)  # Adjusting threshold to 0.6 to reduce false positives\n",
    "\n",
    "# Classification report\n",
    "print(classification_report(test_data.classes, adjusted_predictions, target_names=['Normal', 'Pneumonia']))"
   ]
  },
  {
   "cell_type": "markdown",
   "id": "5346184c-c815-4657-83f7-cefbd6103004",
   "metadata": {},
   "source": [
    "### Confusion Matrix\n",
    "I calculate and display the confusion matrix to visualize the model's performance."
   ]
  },
  {
   "cell_type": "code",
   "execution_count": 12,
   "id": "0a08bd61-5ec6-412b-83a4-e207cd48f96a",
   "metadata": {},
   "outputs": [
    {
     "data": {
      "image/png": "[encoded data removed]",
      "text/plain": [
       "<Figure size 800x600 with 1 Axes>"
      ]
     },
     "metadata": {},
     "output_type": "display_data"
    }
   ],
   "source": [
    "# Confusion matrix\n",
    "cm = confusion_matrix(test_data.classes, adjusted_predictions)\n",
    "\n",
    "# Plot the confusion matrix using seaborn heatmap\n",
    "plt.figure(figsize=(8, 6))\n",
    "sns.heatmap(cm, annot=True, fmt='g', cmap='Blues', cbar=False)\n",
    "plt.title('Confusion Matrix')\n",
    "plt.xlabel('Predicted')\n",
    "plt.ylabel('True')\n",
    "plt.show()"
   ]
  },
  {
   "cell_type": "markdown",
   "id": "64303bc7-c3a7-4a2e-94ce-66346d4dbf2f",
   "metadata": {},
   "source": [
    "### Saving the Model\n",
    "The trained model is saved for future use."
   ]
  },
  {
   "cell_type": "code",
   "execution_count": 13,
   "id": "d8213cb4-73fb-440f-9449-e0736296ac2d",
   "metadata": {},
   "outputs": [
    {
     "name": "stderr",
     "output_type": "stream",
     "text": [
      "WARNING:absl:You are saving your model as an HDF5 file via `model.save()` or `keras.saving.save_model(model)`. This file format is considered legacy. We recommend using instead the native Keras format, e.g. `model.save('my_model.keras')` or `keras.saving.save_model(model, 'my_model.keras')`. \n"
     ]
    }
   ],
   "source": [
    "# Save the model\n",
    "model.save('pneumonia_detection_model.h5')"
   ]
  },
  {
   "cell_type": "markdown",
   "id": "b9dae2df-f4e0-4201-80ed-221d2ab8e8a9",
   "metadata": {},
   "source": [
    "### Model Deployment Using Flask\n",
    "\n",
    "After training the pneumonia detection model, it is important to deploy it so that predictions can be made on new data in real time. In this project, Flask is used to create a web application that serves the model for prediction.\n",
    "\n",
    "The deployment process involves the following steps:\n",
    "\n",
    "1. **Saving the Model:** The trained Keras model is saved in HDF5 format (`pneumonia_detection_model.h5`) to be used later in the Flask app.\n",
    "\n",
    "2. **Flask Application:** The Flask app (`app.py`) defines routes for handling image uploads and making predictions. When a user uploads a chest X-ray image through the web interface, the image is preprocessed and fed into the model for classification as either \"Normal\" or \"Pneumonia.\"\n",
    "\n",
    "3. **Running the App:** To run the Flask app, use the command `python app.py` in the terminal. This launches a local web server, where users can upload images and view results.\n",
    "\n",
    "4. **Prediction Logic:** The uploaded image is resized to 224x224 pixels and normalized. The model then predicts the class, with a threshold of 0.5 used to distinguish between \"Normal\" and \"Pneumonia.\"\n"
   ]
  },
  {
   "cell_type": "code",
   "execution_count": null,
   "id": "d5397a3c-3e68-4a1e-9643-ee58d1e9cff1",
   "metadata": {},
   "outputs": [],
   "source": []
  }
 ],
 "metadata": {
  "kernelspec": {
   "display_name": "Python 3 (ipykernel)",
   "language": "python",
   "name": "python3"
  },
  "language_info": {
   "codemirror_mode": {
    "name": "ipython",
    "version": 3
   },
   "file_extension": ".py",
   "mimetype": "text/x-python",
   "name": "python",
   "nbconvert_exporter": "python",
   "pygments_lexer": "ipython3",
   "version": "3.11.4"
  }
 },
 "nbformat": 4,
 "nbformat_minor": 5
}
